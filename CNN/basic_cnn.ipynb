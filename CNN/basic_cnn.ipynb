{
 "cells": [
  {
   "cell_type": "code",
   "execution_count": 1,
   "metadata": {},
   "outputs": [],
   "source": [
    "import torch\n",
    "import torch.nn as nn\n",
    "import torch.optim as optim\n",
    "import torch.nn.functional as F\n",
    "from torchvision import transforms, datasets"
   ]
  },
  {
   "cell_type": "code",
   "execution_count": 2,
   "metadata": {},
   "outputs": [],
   "source": [
    "USE_CUDA = torch.cuda.is_available()\n",
    "DEVICE = torch.device('cuda' if USE_CUDA else 'cpu')"
   ]
  },
  {
   "cell_type": "code",
   "execution_count": 3,
   "metadata": {},
   "outputs": [],
   "source": [
    "EPOCHS = 40\n",
    "BATCH_SIZE = 64"
   ]
  },
  {
   "cell_type": "code",
   "execution_count": 4,
   "metadata": {},
   "outputs": [],
   "source": [
    "train_loader = torch.utils.data.DataLoader(\n",
    "    datasets.FashionMNIST(\n",
    "        root = './.data',\n",
    "        train = True,\n",
    "        download = True,\n",
    "        transform = transforms.Compose([\n",
    "            transforms.ToTensor(),\n",
    "            transforms.Normalize((0.1307,), (0.3081,))\n",
    "        ])\n",
    "    ),\n",
    "    batch_size=BATCH_SIZE,\n",
    "    shuffle=True\n",
    ")\n",
    "test_loader = torch.utils.data.DataLoader(\n",
    "    datasets.FashionMNIST(\n",
    "        root = './.data',\n",
    "        train = False,\n",
    "        transform = transforms.Compose([\n",
    "            transforms.ToTensor(),\n",
    "            transforms.Normalize((0.1307,),(0.3081,))\n",
    "        ])        \n",
    "    ),\n",
    "    batch_size=BATCH_SIZE,\n",
    "    shuffle=True    \n",
    ")"
   ]
  },
  {
   "cell_type": "code",
   "execution_count": 5,
   "metadata": {},
   "outputs": [],
   "source": [
    "class CNN(nn.Module):\n",
    "    def __init__(self):\n",
    "        super(CNN, self).__init__()\n",
    "        self.conv1 = nn.Conv2d(1, 10, kernel_size=5)\n",
    "        self.conv2 = nn.Conv2d(10, 20, kernel_size=5)\n",
    "        self.drop = nn.Dropout2d()\n",
    "        self.fc1 = nn.Linear(320, 50)\n",
    "        self.fc2 = nn.Linear(50, 10)\n",
    "        \n",
    "    def forward(self, input):\n",
    "        l_conv1 = F.relu(F.max_pool2d(self.conv1(input), 2))\n",
    "        l_conv2 = F.relu(F.max_pool2d(self.drop(self.conv2(l_conv1)), 2))\n",
    "        l_flatten = l_conv2.view(-1, 320)\n",
    "        l_fc1 = F.relu(self.fc1(l_flatten))\n",
    "#         l_drop = self.drop(l_fc1)\n",
    "        l_drop = F.dropout(l_fc1, training=self.training)\n",
    "        l_fc2 = self.fc2(l_drop)\n",
    "        \n",
    "        return F.log_softmax(l_fc2, dim=1)        "
   ]
  },
  {
   "cell_type": "code",
   "execution_count": 6,
   "metadata": {},
   "outputs": [],
   "source": [
    "model = CNN().to(DEVICE)\n",
    "optimizer = optim.SGD(model.parameters(), lr=0.01, momentum=0.5)"
   ]
  },
  {
   "cell_type": "code",
   "execution_count": 7,
   "metadata": {},
   "outputs": [],
   "source": [
    "def train(model, train_loader, optimizer, epoch):\n",
    "    model.train()\n",
    "    for batch_idx, (data, target) in enumerate(train_loader):\n",
    "        data, target = data.to(DEVICE), target.to(DEVICE)\n",
    "        optimizer.zero_grad()\n",
    "        output = model(data)\n",
    "        loss = F.cross_entropy(output, target)\n",
    "        loss.backward()\n",
    "        optimizer.step()\n",
    "        \n",
    "#         if batch_idx % 200 == 0:\n",
    "#             print(f'Train epoch : {epoch} {batch_idx * len(data)}/{len(train_loader.dataset)} ({100.0 * batch_idx / len(train_loader):.0f}%)\\tLoss:{loss.item():.6f}')\n",
    "    "
   ]
  },
  {
   "cell_type": "code",
   "execution_count": 8,
   "metadata": {},
   "outputs": [],
   "source": [
    "def evaluate(model, test_loader):\n",
    "    model.eval()\n",
    "    test_loss = 0\n",
    "    correct = 0\n",
    "    with torch.no_grad():\n",
    "        for data, target in test_loader:\n",
    "            data, target = data.to(DEVICE), target.to(DEVICE)\n",
    "            output = model(data)\n",
    "            \n",
    "            test_loss += F.cross_entropy(output, target, reduction='sum').item()\n",
    "            \n",
    "            pred = output.max(1, keepdim=True)[1]\n",
    "            correct += pred.eq(target.view_as(pred)).sum().item()\n",
    "    test_loss /= len(test_loader.dataset)\n",
    "    test_accuracy = 100.0 * correct / len(test_loader.dataset)\n",
    "    \n",
    "    return test_loss, test_accuracy"
   ]
  },
  {
   "cell_type": "code",
   "execution_count": 9,
   "metadata": {
    "scrolled": false
   },
   "outputs": [
    {
     "name": "stdout",
     "output_type": "stream",
     "text": [
      " 1 Test Loss : 0.6453, Accuracy: 75.21%\n",
      " 2 Test Loss : 0.5830, Accuracy: 77.15%\n",
      " 3 Test Loss : 0.5465, Accuracy: 78.94%\n",
      " 4 Test Loss : 0.5118, Accuracy: 80.90%\n",
      " 5 Test Loss : 0.4892, Accuracy: 80.57%\n",
      " 6 Test Loss : 0.4828, Accuracy: 80.59%\n",
      " 7 Test Loss : 0.4491, Accuracy: 83.40%\n",
      " 8 Test Loss : 0.4236, Accuracy: 84.50%\n",
      " 9 Test Loss : 0.4120, Accuracy: 84.87%\n",
      "10 Test Loss : 0.4053, Accuracy: 85.11%\n",
      "11 Test Loss : 0.3969, Accuracy: 85.42%\n",
      "12 Test Loss : 0.3883, Accuracy: 85.53%\n",
      "13 Test Loss : 0.3814, Accuracy: 85.98%\n",
      "14 Test Loss : 0.3826, Accuracy: 85.91%\n",
      "15 Test Loss : 0.3694, Accuracy: 86.50%\n",
      "16 Test Loss : 0.3678, Accuracy: 86.66%\n",
      "17 Test Loss : 0.3672, Accuracy: 86.45%\n",
      "18 Test Loss : 0.3578, Accuracy: 86.90%\n",
      "19 Test Loss : 0.3562, Accuracy: 87.07%\n",
      "20 Test Loss : 0.3521, Accuracy: 87.02%\n",
      "21 Test Loss : 0.3539, Accuracy: 87.26%\n",
      "22 Test Loss : 0.3448, Accuracy: 87.49%\n",
      "23 Test Loss : 0.3461, Accuracy: 87.35%\n",
      "24 Test Loss : 0.3395, Accuracy: 87.49%\n",
      "25 Test Loss : 0.3395, Accuracy: 87.48%\n",
      "26 Test Loss : 0.3393, Accuracy: 87.31%\n",
      "27 Test Loss : 0.3353, Accuracy: 87.55%\n",
      "28 Test Loss : 0.3357, Accuracy: 87.39%\n",
      "29 Test Loss : 0.3452, Accuracy: 86.99%\n",
      "30 Test Loss : 0.3296, Accuracy: 87.91%\n",
      "31 Test Loss : 0.3375, Accuracy: 87.74%\n",
      "32 Test Loss : 0.3316, Accuracy: 87.87%\n",
      "33 Test Loss : 0.3307, Accuracy: 88.00%\n",
      "34 Test Loss : 0.3228, Accuracy: 88.33%\n",
      "35 Test Loss : 0.3288, Accuracy: 87.83%\n",
      "36 Test Loss : 0.3285, Accuracy: 88.30%\n",
      "37 Test Loss : 0.3269, Accuracy: 87.68%\n",
      "38 Test Loss : 0.3165, Accuracy: 88.66%\n",
      "39 Test Loss : 0.3255, Accuracy: 88.14%\n",
      "40 Test Loss : 0.3236, Accuracy: 88.45%\n"
     ]
    }
   ],
   "source": [
    "for epoch in range(1, EPOCHS+1):\n",
    "    train(model, train_loader, optimizer, epoch)\n",
    "    test_loss, test_accuracy = evaluate(model, test_loader)\n",
    "    \n",
    "    print(f'{epoch:2d} Test Loss : {test_loss:.4f}, Accuracy: {test_accuracy:.2f}%')"
   ]
  },
  {
   "cell_type": "code",
   "execution_count": null,
   "metadata": {},
   "outputs": [],
   "source": []
  },
  {
   "cell_type": "code",
   "execution_count": null,
   "metadata": {},
   "outputs": [],
   "source": []
  }
 ],
 "metadata": {
  "kernelspec": {
   "display_name": "Python 3",
   "language": "python",
   "name": "python3"
  },
  "language_info": {
   "codemirror_mode": {
    "name": "ipython",
    "version": 3
   },
   "file_extension": ".py",
   "mimetype": "text/x-python",
   "name": "python",
   "nbconvert_exporter": "python",
   "pygments_lexer": "ipython3",
   "version": "3.7.6"
  }
 },
 "nbformat": 4,
 "nbformat_minor": 4
}

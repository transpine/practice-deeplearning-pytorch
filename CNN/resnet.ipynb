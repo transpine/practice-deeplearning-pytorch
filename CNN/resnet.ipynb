{
 "cells": [
  {
   "cell_type": "code",
   "execution_count": 1,
   "metadata": {
    "execution": {
     "iopub.execute_input": "2020-06-15T02:32:27.361044Z",
     "iopub.status.busy": "2020-06-15T02:32:27.361044Z",
     "iopub.status.idle": "2020-06-15T02:32:29.653252Z",
     "shell.execute_reply": "2020-06-15T02:32:29.653252Z",
     "shell.execute_reply.started": "2020-06-15T02:32:27.361044Z"
    }
   },
   "outputs": [],
   "source": [
    "import torch\n",
    "import torchvision\n",
    "import torch.nn as nn\n",
    "import torch.nn.functional as F\n",
    "import torch.utils as utils\n",
    "import torch.optim as optim\n",
    "from torchvision import datasets, transforms"
   ]
  },
  {
   "cell_type": "code",
   "execution_count": 2,
   "metadata": {
    "execution": {
     "iopub.execute_input": "2020-06-15T02:32:29.654241Z",
     "iopub.status.busy": "2020-06-15T02:32:29.654241Z",
     "iopub.status.idle": "2020-06-15T02:32:29.658202Z",
     "shell.execute_reply": "2020-06-15T02:32:29.658202Z",
     "shell.execute_reply.started": "2020-06-15T02:32:29.654241Z"
    }
   },
   "outputs": [],
   "source": [
    "EPOCHS = 300\n",
    "BATCH_SIZE = 128"
   ]
  },
  {
   "cell_type": "code",
   "execution_count": 3,
   "metadata": {
    "execution": {
     "iopub.execute_input": "2020-06-15T02:32:29.659228Z",
     "iopub.status.busy": "2020-06-15T02:32:29.659228Z",
     "iopub.status.idle": "2020-06-15T02:32:29.700089Z",
     "shell.execute_reply": "2020-06-15T02:32:29.700089Z",
     "shell.execute_reply.started": "2020-06-15T02:32:29.659228Z"
    }
   },
   "outputs": [],
   "source": [
    "USE_CUDA = torch.cuda.is_available()\n",
    "DEVICE = torch.device(\"cuda\" if USE_CUDA else 'cpu')"
   ]
  },
  {
   "cell_type": "code",
   "execution_count": 4,
   "metadata": {
    "execution": {
     "iopub.execute_input": "2020-06-15T02:32:29.701086Z",
     "iopub.status.busy": "2020-06-15T02:32:29.701086Z",
     "iopub.status.idle": "2020-06-15T02:32:30.654538Z",
     "shell.execute_reply": "2020-06-15T02:32:30.654538Z",
     "shell.execute_reply.started": "2020-06-15T02:32:29.701086Z"
    }
   },
   "outputs": [],
   "source": [
    "train_loader = torch.utils.data.DataLoader(\n",
    "    datasets.CIFAR10(\n",
    "        root = './.data',\n",
    "        train = True,\n",
    "        transform=transforms.Compose([\n",
    "            transforms.RandomCrop(32, padding=4),\n",
    "            transforms.RandomHorizontalFlip(),            \n",
    "            transforms.ToTensor(),\n",
    "            transforms.Normalize((0.5, 0.5, 0.5), (0.5, 0.5, 0.5))            \n",
    "        ])        \n",
    "    ),\n",
    "    batch_size=BATCH_SIZE,\n",
    "    shuffle=True\n",
    ")\n",
    "test_loader = torch.utils.data.DataLoader(\n",
    "    datasets.CIFAR10(\n",
    "        root = './.data',\n",
    "        train = False,\n",
    "        transform=transforms.Compose([\n",
    "            transforms.ToTensor(),\n",
    "            transforms.Normalize((0.5, 0.5, 0.5), (0.5, 0.5, 0.5))\n",
    "        ])        \n",
    "    ),\n",
    "    batch_size=BATCH_SIZE,\n",
    "    shuffle=True\n",
    ")"
   ]
  },
  {
   "cell_type": "code",
   "execution_count": 5,
   "metadata": {
    "execution": {
     "iopub.execute_input": "2020-06-15T02:32:30.655541Z",
     "iopub.status.busy": "2020-06-15T02:32:30.655541Z",
     "iopub.status.idle": "2020-06-15T02:32:30.661519Z",
     "shell.execute_reply": "2020-06-15T02:32:30.661519Z",
     "shell.execute_reply.started": "2020-06-15T02:32:30.655541Z"
    }
   },
   "outputs": [],
   "source": [
    "class BasicBlock(nn.Module):\n",
    "    def __init__(self, in_planes, planes, stride=1):\n",
    "        super(BasicBlock, self).__init__()\n",
    "        self.conv1 = nn.Conv2d(in_planes, planes, kernel_size=3, stride=stride, padding=1, bias=False)\n",
    "        self.bn1 = nn.BatchNorm2d(planes)\n",
    "        self.conv2 = nn.Conv2d(planes, planes, kernel_size=3, stride=1, padding=1, bias=False)\n",
    "        self.bn2 = nn.BatchNorm2d(planes)\n",
    "        \n",
    "        self.shortcut = nn.Sequential()\n",
    "        \n",
    "        if stride != 1 or in_planes != planes:\n",
    "            self.shortcut = nn.Sequential(\n",
    "                nn.Conv2d(in_planes, planes, kernel_size=1, stride=stride, bias=False),\n",
    "                nn.BatchNorm2d(planes)\n",
    "            )\n",
    "            \n",
    "    def forward(self, x):\n",
    "        out = F.relu(self.bn1(self.conv1(x)))\n",
    "        out = self.bn2(self.conv2(out))\n",
    "        out += self.shortcut(x)\n",
    "        out = F.relu(out)\n",
    "        \n",
    "        return out"
   ]
  },
  {
   "cell_type": "code",
   "execution_count": 6,
   "metadata": {
    "execution": {
     "iopub.execute_input": "2020-06-15T02:32:30.662516Z",
     "iopub.status.busy": "2020-06-15T02:32:30.662516Z",
     "iopub.status.idle": "2020-06-15T02:32:30.675482Z",
     "shell.execute_reply": "2020-06-15T02:32:30.675482Z",
     "shell.execute_reply.started": "2020-06-15T02:32:30.662516Z"
    }
   },
   "outputs": [],
   "source": [
    "class ResNet(nn.Module):\n",
    "    def __init__(self, num_classes=10):\n",
    "        super(ResNet, self).__init__()\n",
    "        self.in_planes = 16\n",
    "        \n",
    "        self.conv1 = nn.Conv2d(3, 16, kernel_size=3, stride=1, padding=1, bias=False)\n",
    "        self.bn1 = nn.BatchNorm2d(16)\n",
    "        \n",
    "        self.layer1 = self._make_layer(16, 2, stride=1)\n",
    "        self.layer2 = self._make_layer(32, 2, stride=2)\n",
    "        self.layer3 = self._make_layer(64, 2, stride=2)\n",
    "        self.linear = nn.Linear(64, num_classes)\n",
    "        \n",
    "    def _make_layer(self, planes, num_blockes, stride):\n",
    "        strides = [stride] + [1]*(num_blockes-1)\n",
    "        layers = []\n",
    "        for stride in strides:\n",
    "            layers.append(BasicBlock(self.in_planes, planes, stride))\n",
    "            self.in_planes = planes\n",
    "\n",
    "        return nn.Sequential(*layers)    \n",
    "    \n",
    "    def forward(self, x):\n",
    "        out = F.relu(self.bn1(self.conv1(x)))\n",
    "        out = self.layer1(out)\n",
    "        out = self.layer2(out)\n",
    "        out = self.layer3(out)\n",
    "        out = F.avg_pool2d(out, 8)\n",
    "        out = out.view(out.size(0), -1)\n",
    "        out = self.linear(out)\n",
    "        \n",
    "        return out"
   ]
  },
  {
   "cell_type": "code",
   "execution_count": 7,
   "metadata": {
    "execution": {
     "iopub.execute_input": "2020-06-15T02:32:30.677478Z",
     "iopub.status.busy": "2020-06-15T02:32:30.677478Z",
     "iopub.status.idle": "2020-06-15T02:32:31.816436Z",
     "shell.execute_reply": "2020-06-15T02:32:31.816436Z",
     "shell.execute_reply.started": "2020-06-15T02:32:30.677478Z"
    }
   },
   "outputs": [],
   "source": [
    "model = ResNet().to(DEVICE)"
   ]
  },
  {
   "cell_type": "code",
   "execution_count": 8,
   "metadata": {
    "execution": {
     "iopub.execute_input": "2020-06-15T02:32:31.817444Z",
     "iopub.status.busy": "2020-06-15T02:32:31.817444Z",
     "iopub.status.idle": "2020-06-15T02:32:31.821418Z",
     "shell.execute_reply": "2020-06-15T02:32:31.821418Z",
     "shell.execute_reply.started": "2020-06-15T02:32:31.817444Z"
    }
   },
   "outputs": [],
   "source": [
    "# optimizer = optim.SGD(model.parameters(), lr=0.1, momentum=0.9, weight_decay=0.0005)\n",
    "optimizer = optim.Adam(model.parameters(), lr=0.1, weight_decay=0.0005)\n"
   ]
  },
  {
   "cell_type": "code",
   "execution_count": 9,
   "metadata": {
    "execution": {
     "iopub.execute_input": "2020-06-15T02:32:31.823444Z",
     "iopub.status.busy": "2020-06-15T02:32:31.822416Z",
     "iopub.status.idle": "2020-06-15T02:32:31.834408Z",
     "shell.execute_reply": "2020-06-15T02:32:31.834408Z",
     "shell.execute_reply.started": "2020-06-15T02:32:31.823444Z"
    }
   },
   "outputs": [],
   "source": [
    "schedular = optim.lr_scheduler.StepLR(optimizer, step_size=50, gamma=0.1)"
   ]
  },
  {
   "cell_type": "code",
   "execution_count": 10,
   "metadata": {
    "execution": {
     "iopub.execute_input": "2020-06-15T02:32:31.835381Z",
     "iopub.status.busy": "2020-06-15T02:32:31.835381Z",
     "iopub.status.idle": "2020-06-15T02:32:31.847373Z",
     "shell.execute_reply": "2020-06-15T02:32:31.847373Z",
     "shell.execute_reply.started": "2020-06-15T02:32:31.835381Z"
    }
   },
   "outputs": [
    {
     "name": "stdout",
     "output_type": "stream",
     "text": [
      "ResNet(\n",
      "  (conv1): Conv2d(3, 16, kernel_size=(3, 3), stride=(1, 1), padding=(1, 1), bias=False)\n",
      "  (bn1): BatchNorm2d(16, eps=1e-05, momentum=0.1, affine=True, track_running_stats=True)\n",
      "  (layer1): Sequential(\n",
      "    (0): BasicBlock(\n",
      "      (conv1): Conv2d(16, 16, kernel_size=(3, 3), stride=(1, 1), padding=(1, 1), bias=False)\n",
      "      (bn1): BatchNorm2d(16, eps=1e-05, momentum=0.1, affine=True, track_running_stats=True)\n",
      "      (conv2): Conv2d(16, 16, kernel_size=(3, 3), stride=(1, 1), padding=(1, 1), bias=False)\n",
      "      (bn2): BatchNorm2d(16, eps=1e-05, momentum=0.1, affine=True, track_running_stats=True)\n",
      "      (shortcut): Sequential()\n",
      "    )\n",
      "    (1): BasicBlock(\n",
      "      (conv1): Conv2d(16, 16, kernel_size=(3, 3), stride=(1, 1), padding=(1, 1), bias=False)\n",
      "      (bn1): BatchNorm2d(16, eps=1e-05, momentum=0.1, affine=True, track_running_stats=True)\n",
      "      (conv2): Conv2d(16, 16, kernel_size=(3, 3), stride=(1, 1), padding=(1, 1), bias=False)\n",
      "      (bn2): BatchNorm2d(16, eps=1e-05, momentum=0.1, affine=True, track_running_stats=True)\n",
      "      (shortcut): Sequential()\n",
      "    )\n",
      "  )\n",
      "  (layer2): Sequential(\n",
      "    (0): BasicBlock(\n",
      "      (conv1): Conv2d(16, 32, kernel_size=(3, 3), stride=(2, 2), padding=(1, 1), bias=False)\n",
      "      (bn1): BatchNorm2d(32, eps=1e-05, momentum=0.1, affine=True, track_running_stats=True)\n",
      "      (conv2): Conv2d(32, 32, kernel_size=(3, 3), stride=(1, 1), padding=(1, 1), bias=False)\n",
      "      (bn2): BatchNorm2d(32, eps=1e-05, momentum=0.1, affine=True, track_running_stats=True)\n",
      "      (shortcut): Sequential(\n",
      "        (0): Conv2d(16, 32, kernel_size=(1, 1), stride=(2, 2), bias=False)\n",
      "        (1): BatchNorm2d(32, eps=1e-05, momentum=0.1, affine=True, track_running_stats=True)\n",
      "      )\n",
      "    )\n",
      "    (1): BasicBlock(\n",
      "      (conv1): Conv2d(32, 32, kernel_size=(3, 3), stride=(1, 1), padding=(1, 1), bias=False)\n",
      "      (bn1): BatchNorm2d(32, eps=1e-05, momentum=0.1, affine=True, track_running_stats=True)\n",
      "      (conv2): Conv2d(32, 32, kernel_size=(3, 3), stride=(1, 1), padding=(1, 1), bias=False)\n",
      "      (bn2): BatchNorm2d(32, eps=1e-05, momentum=0.1, affine=True, track_running_stats=True)\n",
      "      (shortcut): Sequential()\n",
      "    )\n",
      "  )\n",
      "  (layer3): Sequential(\n",
      "    (0): BasicBlock(\n",
      "      (conv1): Conv2d(32, 64, kernel_size=(3, 3), stride=(2, 2), padding=(1, 1), bias=False)\n",
      "      (bn1): BatchNorm2d(64, eps=1e-05, momentum=0.1, affine=True, track_running_stats=True)\n",
      "      (conv2): Conv2d(64, 64, kernel_size=(3, 3), stride=(1, 1), padding=(1, 1), bias=False)\n",
      "      (bn2): BatchNorm2d(64, eps=1e-05, momentum=0.1, affine=True, track_running_stats=True)\n",
      "      (shortcut): Sequential(\n",
      "        (0): Conv2d(32, 64, kernel_size=(1, 1), stride=(2, 2), bias=False)\n",
      "        (1): BatchNorm2d(64, eps=1e-05, momentum=0.1, affine=True, track_running_stats=True)\n",
      "      )\n",
      "    )\n",
      "    (1): BasicBlock(\n",
      "      (conv1): Conv2d(64, 64, kernel_size=(3, 3), stride=(1, 1), padding=(1, 1), bias=False)\n",
      "      (bn1): BatchNorm2d(64, eps=1e-05, momentum=0.1, affine=True, track_running_stats=True)\n",
      "      (conv2): Conv2d(64, 64, kernel_size=(3, 3), stride=(1, 1), padding=(1, 1), bias=False)\n",
      "      (bn2): BatchNorm2d(64, eps=1e-05, momentum=0.1, affine=True, track_running_stats=True)\n",
      "      (shortcut): Sequential()\n",
      "    )\n",
      "  )\n",
      "  (linear): Linear(in_features=64, out_features=10, bias=True)\n",
      ")\n"
     ]
    }
   ],
   "source": [
    "print(model)"
   ]
  },
  {
   "cell_type": "code",
   "execution_count": 11,
   "metadata": {
    "execution": {
     "iopub.execute_input": "2020-06-15T02:32:31.849345Z",
     "iopub.status.busy": "2020-06-15T02:32:31.848346Z",
     "iopub.status.idle": "2020-06-15T02:32:31.858319Z",
     "shell.execute_reply": "2020-06-15T02:32:31.858319Z",
     "shell.execute_reply.started": "2020-06-15T02:32:31.848346Z"
    }
   },
   "outputs": [],
   "source": [
    "def train(model, train_loader, optimizer, epoch):\n",
    "    model.train()\n",
    "    for batch_idx, (data, target) in enumerate(train_loader):\n",
    "        data, target = data.to(DEVICE), target.to(DEVICE)\n",
    "        \n",
    "        optimizer.zero_grad()\n",
    "        output = model(data)\n",
    "        \n",
    "        loss = F.cross_entropy(output, target)\n",
    "        loss.backward()\n",
    "        \n",
    "        optimizer.step()"
   ]
  },
  {
   "cell_type": "code",
   "execution_count": 12,
   "metadata": {
    "execution": {
     "iopub.execute_input": "2020-06-15T02:32:31.859316Z",
     "iopub.status.busy": "2020-06-15T02:32:31.859316Z",
     "iopub.status.idle": "2020-06-15T02:32:31.868325Z",
     "shell.execute_reply": "2020-06-15T02:32:31.868325Z",
     "shell.execute_reply.started": "2020-06-15T02:32:31.859316Z"
    }
   },
   "outputs": [],
   "source": [
    "def evaluate(model, test_loader):\n",
    "    model.eval()\n",
    "    test_loss = 0\n",
    "    correct = 0\n",
    "    \n",
    "    with torch.no_grad():\n",
    "        for data, target in test_loader:\n",
    "            data, target = data.to(DEVICE), target.to(DEVICE)\n",
    "            output = model(data)\n",
    "            \n",
    "            test_loss += F.cross_entropy(output, target, reduction='sum').item()\n",
    "            \n",
    "            pred = output.max(1, keepdim=True)[1]\n",
    "            correct += pred.eq(target.view_as(pred)).sum().item()\n",
    "    \n",
    "    test_loss /= len(test_loader.dataset)\n",
    "    test_accuracy = 100.0 * correct / len(test_loader.dataset)\n",
    "    \n",
    "    return test_loss, test_accuracy"
   ]
  },
  {
   "cell_type": "code",
   "execution_count": null,
   "metadata": {
    "execution": {
     "iopub.execute_input": "2020-06-15T02:32:31.869290Z",
     "iopub.status.busy": "2020-06-15T02:32:31.869290Z"
    }
   },
   "outputs": [
    {
     "name": "stderr",
     "output_type": "stream",
     "text": [
      "d:\\sources\\practice-deeplearning-pytorch\\.env\\lib\\site-packages\\torch\\optim\\lr_scheduler.py:123: UserWarning: Detected call of `lr_scheduler.step()` before `optimizer.step()`. In PyTorch 1.1.0 and later, you should call them in the opposite order: `optimizer.step()` before `lr_scheduler.step()`.  Failure to do this will result in PyTorch skipping the first value of the learning rate schedule. See more details at https://pytorch.org/docs/stable/optim.html#how-to-adjust-learning-rate\n",
      "  \"https://pytorch.org/docs/stable/optim.html#how-to-adjust-learning-rate\", UserWarning)\n"
     ]
    },
    {
     "name": "stdout",
     "output_type": "stream",
     "text": [
      "1 Test Loss : 3.4348, Accuracy : 11.22\n",
      "2 Test Loss : 1.9181, Accuracy : 24.06\n",
      "3 Test Loss : 2.7358, Accuracy : 16.65\n",
      "4 Test Loss : 1.8221, Accuracy : 28.77\n",
      "5 Test Loss : 3.6765, Accuracy : 14.76\n",
      "6 Test Loss : 2.0836, Accuracy : 26.04\n",
      "7 Test Loss : 1.7955, Accuracy : 30.71\n",
      "8 Test Loss : 1.7417, Accuracy : 31.00\n",
      "9 Test Loss : 6.6151, Accuracy : 10.21\n",
      "10 Test Loss : 2.2436, Accuracy : 20.03\n",
      "11 Test Loss : 2.9425, Accuracy : 20.43\n",
      "12 Test Loss : 2.1001, Accuracy : 26.09\n",
      "13 Test Loss : 9.3518, Accuracy : 13.44\n",
      "14 Test Loss : 2.7298, Accuracy : 14.33\n",
      "15 Test Loss : 2.7180, Accuracy : 20.54\n",
      "16 Test Loss : 2.9923, Accuracy : 18.80\n",
      "17 Test Loss : 3.3497, Accuracy : 16.73\n",
      "18 Test Loss : 2.0136, Accuracy : 25.61\n",
      "19 Test Loss : 1.7866, Accuracy : 31.33\n",
      "20 Test Loss : 8.8525, Accuracy : 10.06\n",
      "21 Test Loss : 2.1533, Accuracy : 27.39\n",
      "22 Test Loss : 10.5010, Accuracy : 10.65\n",
      "23 Test Loss : 2.0853, Accuracy : 20.57\n",
      "24 Test Loss : 3.0689, Accuracy : 15.84\n",
      "25 Test Loss : 2.1220, Accuracy : 24.89\n",
      "26 Test Loss : 5.2916, Accuracy : 10.33\n",
      "27 Test Loss : 5.0172, Accuracy : 13.46\n",
      "28 Test Loss : 6.8793, Accuracy : 19.22\n",
      "29 Test Loss : 1.7922, Accuracy : 30.24\n",
      "30 Test Loss : 3.1994, Accuracy : 17.30\n",
      "31 Test Loss : 2.5293, Accuracy : 23.92\n",
      "32 Test Loss : 1.9802, Accuracy : 24.49\n",
      "33 Test Loss : 9.7846, Accuracy : 12.45\n",
      "34 Test Loss : 16.0735, Accuracy : 10.01\n",
      "35 Test Loss : 8.1780, Accuracy : 15.43\n",
      "36 Test Loss : 3.6068, Accuracy : 23.74\n",
      "37 Test Loss : 2.0191, Accuracy : 24.19\n",
      "38 Test Loss : 2.6753, Accuracy : 23.24\n",
      "39 Test Loss : 2.4641, Accuracy : 20.21\n",
      "40 Test Loss : 2.0192, Accuracy : 26.53\n",
      "41 Test Loss : 1.9678, Accuracy : 24.96\n",
      "42 Test Loss : 1.7975, Accuracy : 30.50\n",
      "43 Test Loss : 2.9444, Accuracy : 15.59\n",
      "44 Test Loss : 2.4580, Accuracy : 20.48\n",
      "45 Test Loss : 1.7134, Accuracy : 30.84\n",
      "46 Test Loss : 1.8695, Accuracy : 25.53\n",
      "47 Test Loss : 2.3223, Accuracy : 18.49\n",
      "48 Test Loss : 2.7438, Accuracy : 14.69\n",
      "49 Test Loss : 3.2690, Accuracy : 13.65\n",
      "50 Test Loss : 1.7468, Accuracy : 32.35\n",
      "51 Test Loss : 1.7444, Accuracy : 35.25\n",
      "52 Test Loss : 1.6720, Accuracy : 37.31\n",
      "53 Test Loss : 1.5240, Accuracy : 42.59\n",
      "54 Test Loss : 1.4323, Accuracy : 48.03\n",
      "55 Test Loss : 1.5654, Accuracy : 45.04\n",
      "56 Test Loss : 1.5437, Accuracy : 44.62\n",
      "57 Test Loss : 1.5137, Accuracy : 44.22\n"
     ]
    }
   ],
   "source": [
    "for epoch in range(1, EPOCHS+1):\n",
    "    schedular.step()\n",
    "    train(model, train_loader, optimizer, epoch)\n",
    "    test_loss, test_accuracy = evaluate(model, test_loader)\n",
    "    \n",
    "    print(f'{epoch} Test Loss : {test_loss:.4f}, Accuracy : {test_accuracy:.2f}')"
   ]
  },
  {
   "cell_type": "code",
   "execution_count": null,
   "metadata": {},
   "outputs": [],
   "source": []
  }
 ],
 "metadata": {
  "kernelspec": {
   "display_name": "Python 3",
   "language": "python",
   "name": "python3"
  },
  "language_info": {
   "codemirror_mode": {
    "name": "ipython",
    "version": 3
   },
   "file_extension": ".py",
   "mimetype": "text/x-python",
   "name": "python",
   "nbconvert_exporter": "python",
   "pygments_lexer": "ipython3",
   "version": "3.7.6"
  },
  "output_auto_scroll": true
 },
 "nbformat": 4,
 "nbformat_minor": 4
}

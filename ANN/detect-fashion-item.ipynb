{
 "cells": [
  {
   "cell_type": "code",
   "execution_count": 31,
   "metadata": {},
   "outputs": [],
   "source": [
    "import torch\n",
    "import torch.nn as nn\n",
    "import torch.optim as optim\n",
    "import torch.nn.functional as F\n",
    "from torchvision import transforms, datasets\n",
    "from torch.utils import data"
   ]
  },
  {
   "cell_type": "code",
   "execution_count": 4,
   "metadata": {},
   "outputs": [],
   "source": [
    "USE_CUDA = torch.cuda.is_available()\n",
    "DEVICE = torch.device(\"cuda\" if USE_CUDA else \"cpu\")"
   ]
  },
  {
   "cell_type": "code",
   "execution_count": 73,
   "metadata": {},
   "outputs": [],
   "source": [
    "EPOCHS = 30\n",
    "BATCH_SIZE = 64"
   ]
  },
  {
   "cell_type": "code",
   "execution_count": 26,
   "metadata": {},
   "outputs": [],
   "source": [
    "transform = transforms.Compose([\n",
    "    transforms.ToTensor()\n",
    "])"
   ]
  },
  {
   "cell_type": "code",
   "execution_count": 27,
   "metadata": {},
   "outputs": [],
   "source": [
    "trainset = datasets.FashionMNIST(\n",
    "    root = './.data/',\n",
    "    train = True,\n",
    "    transform = transform,\n",
    "    download=True\n",
    ")"
   ]
  },
  {
   "cell_type": "code",
   "execution_count": 28,
   "metadata": {},
   "outputs": [],
   "source": [
    "testset = datasets.FashionMNIST(\n",
    "    root = './.data/',\n",
    "    train = False,\n",
    "    transform = transform,\n",
    "    download=True\n",
    ")"
   ]
  },
  {
   "cell_type": "code",
   "execution_count": 33,
   "metadata": {},
   "outputs": [],
   "source": [
    "train_loader = data.DataLoader(\n",
    "    dataset = trainset,\n",
    "    batch_size=BATCH_SIZE)\n",
    "test_loader = data.DataLoader(\n",
    "    dataset = testset,\n",
    "    batch_size= BATCH_SIZE\n",
    ")"
   ]
  },
  {
   "cell_type": "code",
   "execution_count": 19,
   "metadata": {},
   "outputs": [],
   "source": [
    "class Net(nn.Module):\n",
    "    def __init__(self):\n",
    "        super(Net, self).__init__()\n",
    "        self.fc1 = nn.Linear(784, 256)\n",
    "        self.fc2 = nn.Linear(256, 128)\n",
    "        self.fc3 = nn.Linear(128,10)\n",
    "        \n",
    "    def forward(self, input):\n",
    "        flatten = input.view(-1, 784)\n",
    "        fc1 = F.relu(self.fc1(flatten))\n",
    "        fc2 = F.relu(self.fc2(fc1))\n",
    "        output = self.fc3(fc2)\n",
    "        return output"
   ]
  },
  {
   "cell_type": "code",
   "execution_count": 20,
   "metadata": {},
   "outputs": [],
   "source": [
    "model = Net().to(DEVICE)"
   ]
  },
  {
   "cell_type": "code",
   "execution_count": 22,
   "metadata": {},
   "outputs": [],
   "source": [
    "optimizer = optim.SGD(model.parameters(), lr=0.01)"
   ]
  },
  {
   "cell_type": "code",
   "execution_count": 37,
   "metadata": {},
   "outputs": [],
   "source": [
    "def train(model, train_loader, optimizer):\n",
    "    model.train()\n",
    "    for batch_idx, (data, target) in enumerate(train_loader):\n",
    "        data, target = data.to(DEVICE), target.to(DEVICE)\n",
    "    \n",
    "        optimizer.zero_grad()\n",
    "        output = model(data)\n",
    "        loss = F.cross_entropy(output, target)\n",
    "        loss.backward()\n",
    "        optimizer.step()"
   ]
  },
  {
   "cell_type": "code",
   "execution_count": 71,
   "metadata": {},
   "outputs": [],
   "source": [
    "def evaluate(model, test_loader):\n",
    "    model.eval()\n",
    "    test_loss = 0\n",
    "    correct = 0\n",
    "    with torch.no_grad():\n",
    "        for data, target in test_loader:\n",
    "            data, target = data.to(DEVICE), target.to(DEVICE)\n",
    "            output = model(data)\n",
    "            pred = output.max(1, keepdim=True)[1]\n",
    "            correct += pred.eq(target.view_as(pred)).sum().item()\n",
    "        \n",
    "            test_loss += F.cross_entropy(output, target, reduction='sum').item()\n",
    "            \n",
    "    test_loss /= len(test_loader.dataset)\n",
    "    test_accuracy = 100 * correct / len(test_loader.dataset)\n",
    "    \n",
    "    return test_loss, test_accuracy"
   ]
  },
  {
   "cell_type": "code",
   "execution_count": 62,
   "metadata": {},
   "outputs": [],
   "source": [
    "test   = torch.Tensor([[0,0,1,0,0,0,0,0,0],[0,0,0,0,1,0,0,0,0],[1,0,0,0,0,0,0,0,0]])"
   ]
  },
  {
   "cell_type": "code",
   "execution_count": 67,
   "metadata": {},
   "outputs": [
    {
     "data": {
      "text/plain": [
       "torch.return_types.max(\n",
       "values=tensor([1., 1., 1.]),\n",
       "indices=tensor([2, 4, 0]))"
      ]
     },
     "execution_count": 67,
     "metadata": {},
     "output_type": "execute_result"
    }
   ],
   "source": [
    "test.max(1)"
   ]
  },
  {
   "cell_type": "code",
   "execution_count": 70,
   "metadata": {},
   "outputs": [
    {
     "data": {
      "text/plain": [
       "torch.Size([3, 1])"
      ]
     },
     "execution_count": 70,
     "metadata": {},
     "output_type": "execute_result"
    }
   ],
   "source": [
    "test.max(1, keepdim=True)[1].shape"
   ]
  },
  {
   "cell_type": "code",
   "execution_count": 74,
   "metadata": {},
   "outputs": [
    {
     "name": "stdout",
     "output_type": "stream",
     "text": [
      "1 Test Loss : 0.3703068133354187, accuracy : 86.72\n",
      "2 Test Loss : 0.3683851508617401, accuracy : 86.79\n",
      "3 Test Loss : 0.3659388162612915, accuracy : 86.84\n",
      "4 Test Loss : 0.3641966445684433, accuracy : 87.07\n",
      "5 Test Loss : 0.36273867089748385, accuracy : 87.09\n",
      "6 Test Loss : 0.36082945609092715, accuracy : 87.2\n",
      "7 Test Loss : 0.35839357476234435, accuracy : 87.25\n",
      "8 Test Loss : 0.3573462371110916, accuracy : 87.26\n",
      "9 Test Loss : 0.35443802402019503, accuracy : 87.38\n",
      "10 Test Loss : 0.35317495274543764, accuracy : 87.47\n",
      "11 Test Loss : 0.35192358584403993, accuracy : 87.52\n",
      "12 Test Loss : 0.35108426275253296, accuracy : 87.48\n",
      "13 Test Loss : 0.35136865220069885, accuracy : 87.45\n",
      "14 Test Loss : 0.35019447367191314, accuracy : 87.5\n",
      "15 Test Loss : 0.3487207622051239, accuracy : 87.51\n",
      "16 Test Loss : 0.34728842041492464, accuracy : 87.62\n",
      "17 Test Loss : 0.346106406378746, accuracy : 87.66\n",
      "18 Test Loss : 0.3445451088666916, accuracy : 87.68\n",
      "19 Test Loss : 0.3445059564828873, accuracy : 87.73\n",
      "20 Test Loss : 0.3444031576871872, accuracy : 87.71\n",
      "21 Test Loss : 0.34413130831718447, accuracy : 87.68\n",
      "22 Test Loss : 0.3432217722177506, accuracy : 87.75\n",
      "23 Test Loss : 0.3425054505109787, accuracy : 87.8\n",
      "24 Test Loss : 0.3409609580993652, accuracy : 87.9\n",
      "25 Test Loss : 0.3395947167396545, accuracy : 88.06\n",
      "26 Test Loss : 0.3398526537656784, accuracy : 88.0\n",
      "27 Test Loss : 0.33942926633358, accuracy : 88.06\n",
      "28 Test Loss : 0.3413547534823418, accuracy : 88.07\n",
      "29 Test Loss : 0.3374334642291069, accuracy : 88.18\n",
      "30 Test Loss : 0.3362873656749725, accuracy : 88.2\n"
     ]
    }
   ],
   "source": [
    "for epoch in range(1, EPOCHS+1):\n",
    "    train(model, train_loader, optimizer)\n",
    "    test_loss, test_accuracy = evaluate(model, test_loader)\n",
    "    \n",
    "    print(f'{epoch} Test Loss : {test_loss}, accuracy : {test_accuracy}')"
   ]
  },
  {
   "cell_type": "code",
   "execution_count": null,
   "metadata": {},
   "outputs": [],
   "source": []
  }
 ],
 "metadata": {
  "kernelspec": {
   "display_name": "Python 3.7.7 64-bit ('.env': venv)",
   "language": "python",
   "name": "python37764bitenvvenvea93a1816e9546958267bc9d4844c498"
  },
  "language_info": {
   "codemirror_mode": {
    "name": "ipython",
    "version": 3
   },
   "file_extension": ".py",
   "mimetype": "text/x-python",
   "name": "python",
   "nbconvert_exporter": "python",
   "pygments_lexer": "ipython3",
   "version": "3.7.7"
  }
 },
 "nbformat": 4,
 "nbformat_minor": 4
}

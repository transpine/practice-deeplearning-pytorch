{
 "cells": [
  {
   "cell_type": "code",
   "execution_count": 1,
   "metadata": {},
   "outputs": [],
   "source": [
    "import torch\n",
    "import torch.nn as nn\n",
    "import torch.optim as optim\n",
    "import torch.nn.functional as F\n",
    "from torchvision import transforms, datasets\n",
    "from torch.utils import data"
   ]
  },
  {
   "cell_type": "code",
   "execution_count": 2,
   "metadata": {},
   "outputs": [],
   "source": [
    "USE_CUDA = torch.cuda.is_available()\n",
    "DEVICE = torch.device(\"cuda\" if USE_CUDA else \"cpu\")"
   ]
  },
  {
   "cell_type": "code",
   "execution_count": 3,
   "metadata": {},
   "outputs": [],
   "source": [
    "EPOCHS = 30\n",
    "BATCH_SIZE = 64"
   ]
  },
  {
   "cell_type": "code",
   "execution_count": 4,
   "metadata": {},
   "outputs": [],
   "source": [
    "train_transform = transforms.Compose([\n",
    "    transforms.RandomHorizontalFlip(),\n",
    "    transforms.ToTensor(),\n",
    "    transforms.Normalize((0.1307,),(0.3081,))\n",
    "])\n",
    "test_transform = transforms.Compose([\n",
    "    transforms.ToTensor(),\n",
    "    transforms.Normalize((0.1307,),(0.3081,))\n",
    "])"
   ]
  },
  {
   "cell_type": "code",
   "execution_count": 5,
   "metadata": {},
   "outputs": [],
   "source": [
    "trainset = datasets.FashionMNIST(\n",
    "    root = './.data/',\n",
    "    train = True,\n",
    "    transform = train_transform,\n",
    "    download=True\n",
    ")"
   ]
  },
  {
   "cell_type": "code",
   "execution_count": 6,
   "metadata": {},
   "outputs": [],
   "source": [
    "testset = datasets.FashionMNIST(\n",
    "    root = './.data/',\n",
    "    train = False,\n",
    "    transform = test_transform,\n",
    "    download=True\n",
    ")"
   ]
  },
  {
   "cell_type": "code",
   "execution_count": 7,
   "metadata": {},
   "outputs": [],
   "source": [
    "train_loader = data.DataLoader(\n",
    "    dataset = trainset,\n",
    "    batch_size=BATCH_SIZE)\n",
    "test_loader = data.DataLoader(\n",
    "    dataset = testset,\n",
    "    batch_size= BATCH_SIZE\n",
    ")"
   ]
  },
  {
   "cell_type": "code",
   "execution_count": 8,
   "metadata": {},
   "outputs": [],
   "source": [
    "class Net(nn.Module):\n",
    "    def __init__(self, dropout_p=0.2):\n",
    "        super(Net, self).__init__()\n",
    "        self.fc1 = nn.Linear(784, 256)\n",
    "        self.fc2 = nn.Linear(256, 128)\n",
    "        self.fc3 = nn.Linear(128,10)\n",
    "        self.dropout_p = dropout_p\n",
    "        \n",
    "    def forward(self, input):\n",
    "        flatten = input.view(-1, 784)\n",
    "        dropped1 = F.dropout(flatten, training=self.training, p=self.dropout_p )\n",
    "        fc1 = F.relu(self.fc1(dropped1))\n",
    "        dropped2 = F.dropout(fc1, training=self.training, p=self.dropout_p)\n",
    "        fc2 = F.relu(self.fc2(dropped2))\n",
    "        output = self.fc3(fc2)\n",
    "        return output"
   ]
  },
  {
   "cell_type": "code",
   "execution_count": 9,
   "metadata": {},
   "outputs": [],
   "source": [
    "model = Net(dropout_p=0.2).to(DEVICE)"
   ]
  },
  {
   "cell_type": "code",
   "execution_count": 10,
   "metadata": {},
   "outputs": [],
   "source": [
    "optimizer = optim.SGD(model.parameters(), lr=0.01)"
   ]
  },
  {
   "cell_type": "code",
   "execution_count": 11,
   "metadata": {},
   "outputs": [],
   "source": [
    "def train(model, train_loader, optimizer):\n",
    "    model.train()\n",
    "    for batch_idx, (data, target) in enumerate(train_loader):\n",
    "        data, target = data.to(DEVICE), target.to(DEVICE)\n",
    "    \n",
    "        optimizer.zero_grad()\n",
    "        output = model(data)\n",
    "        loss = F.cross_entropy(output, target)\n",
    "        loss.backward()\n",
    "        optimizer.step()"
   ]
  },
  {
   "cell_type": "code",
   "execution_count": 12,
   "metadata": {},
   "outputs": [],
   "source": [
    "def evaluate(model, test_loader):\n",
    "    model.eval()\n",
    "    test_loss = 0\n",
    "    correct = 0\n",
    "    with torch.no_grad():\n",
    "        for data, target in test_loader:\n",
    "            data, target = data.to(DEVICE), target.to(DEVICE)\n",
    "            output = model(data)\n",
    "            pred = output.max(1, keepdim=True)[1]\n",
    "            correct += pred.eq(target.view_as(pred)).sum().item()\n",
    "        \n",
    "            test_loss += F.cross_entropy(output, target, reduction='sum').item()\n",
    "            \n",
    "    test_loss /= len(test_loader.dataset)\n",
    "    test_accuracy = 100 * correct / len(test_loader.dataset)\n",
    "    \n",
    "    return test_loss, test_accuracy"
   ]
  },
  {
   "cell_type": "code",
   "execution_count": null,
   "metadata": {},
   "outputs": [],
   "source": [
    "test   = torch.Tensor([[0,0,1,0,0,0,0,0,0],[0,0,0,0,1,0,0,0,0],[1,0,0,0,0,0,0,0,0]])"
   ]
  },
  {
   "cell_type": "code",
   "execution_count": null,
   "metadata": {},
   "outputs": [],
   "source": [
    "test.max(1)"
   ]
  },
  {
   "cell_type": "code",
   "execution_count": null,
   "metadata": {},
   "outputs": [],
   "source": [
    "test.max(1, keepdim=True)[1].shape"
   ]
  },
  {
   "cell_type": "code",
   "execution_count": 13,
   "metadata": {},
   "outputs": [
    {
     "name": "stdout",
     "output_type": "stream",
     "text": [
      " 1 Test Loss : 0.6482, accuracy : 76.79\n",
      " 2 Test Loss : 0.5410, accuracy : 80.34\n",
      " 3 Test Loss : 0.5004, accuracy : 81.78\n",
      " 4 Test Loss : 0.4780, accuracy : 82.32\n",
      " 5 Test Loss : 0.4529, accuracy : 83.45\n",
      " 6 Test Loss : 0.4414, accuracy : 83.80\n",
      " 7 Test Loss : 0.4265, accuracy : 84.30\n",
      " 8 Test Loss : 0.4148, accuracy : 85.00\n",
      " 9 Test Loss : 0.4108, accuracy : 85.04\n",
      "10 Test Loss : 0.4046, accuracy : 85.23\n",
      "11 Test Loss : 0.3979, accuracy : 85.37\n",
      "12 Test Loss : 0.3913, accuracy : 85.76\n",
      "13 Test Loss : 0.3893, accuracy : 85.85\n",
      "14 Test Loss : 0.3830, accuracy : 86.08\n",
      "15 Test Loss : 0.3783, accuracy : 86.03\n",
      "16 Test Loss : 0.3763, accuracy : 86.20\n",
      "17 Test Loss : 0.3688, accuracy : 86.53\n",
      "18 Test Loss : 0.3641, accuracy : 86.66\n",
      "19 Test Loss : 0.3604, accuracy : 87.02\n",
      "20 Test Loss : 0.3615, accuracy : 86.90\n",
      "21 Test Loss : 0.3559, accuracy : 86.90\n",
      "22 Test Loss : 0.3543, accuracy : 87.13\n",
      "23 Test Loss : 0.3515, accuracy : 87.22\n",
      "24 Test Loss : 0.3480, accuracy : 87.35\n",
      "25 Test Loss : 0.3432, accuracy : 87.64\n",
      "26 Test Loss : 0.3437, accuracy : 87.46\n",
      "27 Test Loss : 0.3429, accuracy : 87.51\n",
      "28 Test Loss : 0.3381, accuracy : 87.85\n",
      "29 Test Loss : 0.3392, accuracy : 87.68\n",
      "30 Test Loss : 0.3411, accuracy : 87.79\n"
     ]
    }
   ],
   "source": [
    "for epoch in range(1, EPOCHS+1):\n",
    "    train(model, train_loader, optimizer)\n",
    "    test_loss, test_accuracy = evaluate(model, test_loader)\n",
    "    \n",
    "    print(f'{epoch:2d} Test Loss : {test_loss:.4f}, accuracy : {test_accuracy:.2f}')"
   ]
  },
  {
   "cell_type": "code",
   "execution_count": null,
   "metadata": {},
   "outputs": [],
   "source": []
  }
 ],
 "metadata": {
  "kernelspec": {
   "display_name": "Python 3.7.7 64-bit ('.env': venv)",
   "language": "python",
   "name": "python37764bitenvvenvea93a1816e9546958267bc9d4844c498"
  },
  "language_info": {
   "codemirror_mode": {
    "name": "ipython",
    "version": 3
   },
   "file_extension": ".py",
   "mimetype": "text/x-python",
   "name": "python",
   "nbconvert_exporter": "python",
   "pygments_lexer": "ipython3",
   "version": "3.7.7"
  }
 },
 "nbformat": 4,
 "nbformat_minor": 4
}
